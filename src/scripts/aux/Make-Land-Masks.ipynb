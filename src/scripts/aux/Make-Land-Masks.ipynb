{
 "cells": [
  {
   "cell_type": "markdown",
   "id": "3c6e7aa0-4ca6-4312-af31-866cb4ba4a7b",
   "metadata": {},
   "source": [
    "# Create land binary masks"
   ]
  },
  {
   "cell_type": "code",
   "execution_count": null,
   "id": "6f2922df-6198-465c-97fd-4b3be58efae4",
   "metadata": {},
   "outputs": [],
   "source": [
    "import ants\n",
    "import iris\n",
    "\n",
    "import matplotlib.pyplot as plt\n",
    "# import numpy as np\n",
    "from aeolus.io import create_dummy_cube\n",
    "from cf_units import Unit\n",
    "from iris.analysis.cartography import get_xy_grids, wrap_lons"
   ]
  },
  {
   "cell_type": "code",
   "execution_count": null,
   "id": "0328af09-baab-47b8-a1ef-c2c4f5ec071a",
   "metadata": {},
   "outputs": [],
   "source": [
    "import paths\n",
    "from common import B2_CONT, B8_CONT, E4_CONT"
   ]
  },
  {
   "cell_type": "code",
   "execution_count": null,
   "id": "7a568786-8ca1-4c4d-8a0b-ee8c4bf0caf3",
   "metadata": {},
   "outputs": [],
   "source": [
    "tcoord = iris.coords.AuxCoord(\n",
    "    points=0,\n",
    "    units=Unit(\"hours since 1970-01-01 00:00:00\", calendar=\"gregorian\"),\n",
    "    standard_name=\"time\",\n",
    ")"
   ]
  },
  {
   "cell_type": "code",
   "execution_count": null,
   "id": "c1a509d7-fe08-446a-84d1-700ab965caa7",
   "metadata": {},
   "outputs": [],
   "source": [
    "resolutions = [\n",
    "    96,\n",
    "]  # 320, 512, 768, 1024]"
   ]
  },
  {
   "cell_type": "code",
   "execution_count": null,
   "id": "510b38c8-1949-4e66-86ac-7c0bd65948f6",
   "metadata": {},
   "outputs": [],
   "source": [
    "for n_res in resolutions:\n",
    "\n",
    "    cube = create_dummy_cube(n_res=n_res)\n",
    "    cube.add_aux_coord(tcoord)\n",
    "\n",
    "    lons, lats = get_xy_grids(cube)\n",
    "    lons_pm180 = wrap_lons(lons, -180, 360)\n",
    "    # B2\n",
    "    label = \"b2\"\n",
    "    lon0 = -36.25\n",
    "    lon1 = 36.25\n",
    "    lat0 = -19\n",
    "    lat1 = 19\n",
    "    # B8\n",
    "    # label = \"b8\"\n",
    "    # lon0 = -93.75\n",
    "    # lon1 = 93.75\n",
    "    # lat0 = -49\n",
    "    # lat1 = 49\n",
    "    # E4\n",
    "    # label = \"e4\"\n",
    "    # lon0 = 1.25\n",
    "    # lon1 = 113.75\n",
    "    # lat0 = -29\n",
    "    # lat1 = 29\n",
    "\n",
    "    mask_true = (lons_pm180 >= lon0) & (lons_pm180 <= lon1) & (lats >= lat0) & (lats <= lat1)\n",
    "\n",
    "    cube.data[mask_true] = 1.0\n",
    "\n",
    "    cube.attributes[\"STASH\"] = iris.fileformats.pp.STASH.from_msi(\"m01s00i030\")\n",
    "    cube.attributes[\"grid_staggering\"] = 6\n",
    "    cube.rename(\"land_binary_mask\")\n",
    "\n",
    "    outdir = paths.data / \"land_sea_mask\" / f\"n{n_res}\"\n",
    "    outdir.mkdir(exist_ok=True, parents=True)\n",
    "    fname = outdir / f\"land_mask_lewis18_{label.lower()}_n{n_res}_{mask_true.sum()}p.anc\"\n",
    "    ants.save(cube, str(fname), saver=\"ancil\")\n",
    "    print(f\"Saved to {fname}\")"
   ]
  }
 ],
 "metadata": {
  "kernelspec": {
   "display_name": "Python [conda env:thunderstruck]",
   "language": "python",
   "name": "conda-env-thunderstruck-py"
  },
  "language_info": {
   "codemirror_mode": {
    "name": "ipython",
    "version": 3
   },
   "file_extension": ".py",
   "mimetype": "text/x-python",
   "name": "python",
   "nbconvert_exporter": "python",
   "pygments_lexer": "ipython3",
   "version": "3.12.7"
  }
 },
 "nbformat": 4,
 "nbformat_minor": 5
}
