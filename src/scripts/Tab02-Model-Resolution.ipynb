{
 "cells": [
  {
   "cell_type": "code",
   "execution_count": 1,
   "id": "a304d4a8-84ca-4fd8-a8cc-a8bacedfc0df",
   "metadata": {},
   "outputs": [],
   "source": [
    "import iris\n",
    "import matplotlib.pyplot as plt\n",
    "import numpy as np\n",
    "from aeolus.const import init_const\n",
    "from aeolus.coord import area_weights_cube\n",
    "from aeolus.io import create_dummy_cube\n",
    "\n",
    "# import pandas as pd"
   ]
  },
  {
   "cell_type": "code",
   "execution_count": 2,
   "id": "ea6d9a0e-2a17-4863-bd67-ed4890cf8317",
   "metadata": {},
   "outputs": [],
   "source": [
    "const = init_const(\"trap1e\")"
   ]
  },
  {
   "cell_type": "code",
   "execution_count": 3,
   "id": "895f551f-375c-4276-a188-82f4b4fea6ed",
   "metadata": {},
   "outputs": [],
   "source": [
    "resolutions = [96, 216, 320, 512, 768, 1280]"
   ]
  },
  {
   "cell_type": "code",
   "execution_count": 4,
   "id": "23edca06-fb16-44a8-b425-64d016738083",
   "metadata": {},
   "outputs": [
    {
     "name": "stdout",
     "output_type": "stream",
     "text": [
      "n96   & 192$\\times$144   & 130.4 \\\\\n",
      "n216  & 432$\\times$324   & 58.0  \\\\\n",
      "n320  & 640$\\times$480   & 39.1  \\\\\n",
      "n512  & 1024$\\times$768  & 24.5  \\\\\n",
      "n768  & 1536$\\times$1152 & 16.3  \\\\\n",
      "n1280 & 2560$\\times$1920 & 9.8   \\\\\n"
     ]
    }
   ],
   "source": [
    "for res in resolutions:\n",
    "    nx = res * 2\n",
    "    ny = res * 1.5\n",
    "    nx_ny = rf\"{nx:.0f}$\\times${ny:.0f}\"\n",
    "    area = area_weights_cube(create_dummy_cube(n_res=res), r_planet=const.radius.data)\n",
    "    a_med_sqrt = (area**0.5).collapsed([\"longitude\", \"latitude\"], iris.analysis.MEDIAN)\n",
    "    a_med_sqrt.convert_units(\"km\")\n",
    "    line = rf\"n{res:<5}& {nx_ny:<17}& {np.round(a_med_sqrt.data, 1):<6.1f}\\\\\"\n",
    "    print(line)"
   ]
  },
  {
   "cell_type": "code",
   "execution_count": 5,
   "id": "0c6c1b28-b07f-493f-8ff5-0c208b292aef",
   "metadata": {},
   "outputs": [],
   "source": [
    "# print(df.to_latex(\n",
    "#     # formatters={k: lambda x: f\"{x:.1f}\" for k in df.columns},\n",
    "#     column_format=\"lll\",\n",
    "#     escape=False,\n",
    "# ))"
   ]
  }
 ],
 "metadata": {
  "kernelspec": {
   "display_name": "Python [conda env:thunderstruck]",
   "language": "python",
   "name": "conda-env-thunderstruck-py"
  },
  "language_info": {
   "codemirror_mode": {
    "name": "ipython",
    "version": 3
   },
   "file_extension": ".py",
   "mimetype": "text/x-python",
   "name": "python",
   "nbconvert_exporter": "python",
   "pygments_lexer": "ipython3",
   "version": "3.10.6"
  }
 },
 "nbformat": 4,
 "nbformat_minor": 5
}
